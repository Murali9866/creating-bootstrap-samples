{
  "cells": [
    {
      "cell_type": "markdown",
      "metadata": {
        "id": "3sNKZq4XrXQh"
      },
      "source": [
        "# <font color='red'><b>Bootstrap assignment</b> </font>"
      ]
    },
    {
      "cell_type": "markdown",
      "metadata": {
        "id": "RAHap1Z3FZC-"
      },
      "source": [
        "<b>There will be some functions that start with the word \"grader\" ex: grader_sampples(), grader_30().. etc, you should not change those function definition.\n",
        "\n",
        "Every Grader function has to return True.</b>"
      ]
    },
    {
      "cell_type": "markdown",
      "metadata": {
        "id": "cuxBq_bvrwh2"
      },
      "source": [
        "<font color='blue'> <b>Importing packages</b> </font>"
      ]
    },
    {
      "cell_type": "code",
      "execution_count": null,
      "metadata": {
        "id": "m6ag91ijrQOs"
      },
      "outputs": [],
      "source": [
        "import numpy as np # importing numpy for numerical computation\n",
        "from sklearn.datasets import load_boston # here we are using sklearn's boston dataset\n",
        "from sklearn.metrics import mean_squared_error # importing mean_squared_error metric"
      ]
    },
    {
      "cell_type": "code",
      "execution_count": null,
      "metadata": {
        "id": "CcHOsONTt1K_",
        "outputId": "122d1af7-3230-48bf-aa3b-57ea8d819bac",
        "colab": {
          "base_uri": "https://localhost:8080/"
        }
      },
      "outputs": [
        {
          "output_type": "stream",
          "name": "stderr",
          "text": [
            "/usr/local/lib/python3.7/dist-packages/sklearn/utils/deprecation.py:87: FutureWarning: Function load_boston is deprecated; `load_boston` is deprecated in 1.0 and will be removed in 1.2.\n",
            "\n",
            "    The Boston housing prices dataset has an ethical problem. You can refer to\n",
            "    the documentation of this function for further details.\n",
            "\n",
            "    The scikit-learn maintainers therefore strongly discourage the use of this\n",
            "    dataset unless the purpose of the code is to study and educate about\n",
            "    ethical issues in data science and machine learning.\n",
            "\n",
            "    In this special case, you can fetch the dataset from the original\n",
            "    source::\n",
            "\n",
            "        import pandas as pd\n",
            "        import numpy as np\n",
            "\n",
            "\n",
            "        data_url = \"http://lib.stat.cmu.edu/datasets/boston\"\n",
            "        raw_df = pd.read_csv(data_url, sep=\"\\s+\", skiprows=22, header=None)\n",
            "        data = np.hstack([raw_df.values[::2, :], raw_df.values[1::2, :2]])\n",
            "        target = raw_df.values[1::2, 2]\n",
            "\n",
            "    Alternative datasets include the California housing dataset (i.e.\n",
            "    :func:`~sklearn.datasets.fetch_california_housing`) and the Ames housing\n",
            "    dataset. You can load the datasets as follows::\n",
            "\n",
            "        from sklearn.datasets import fetch_california_housing\n",
            "        housing = fetch_california_housing()\n",
            "\n",
            "    for the California housing dataset and::\n",
            "\n",
            "        from sklearn.datasets import fetch_openml\n",
            "        housing = fetch_openml(name=\"house_prices\", as_frame=True)\n",
            "\n",
            "    for the Ames housing dataset.\n",
            "    \n",
            "  warnings.warn(msg, category=FutureWarning)\n"
          ]
        }
      ],
      "source": [
        "boston = load_boston()\n",
        "x=boston.data #independent variables\n",
        "y=boston.target #target variable"
      ]
    },
    {
      "cell_type": "markdown",
      "metadata": {
        "id": "AEa_HqRZloH4"
      },
      "source": [
        "## <font color='red'><b>Task 1</b></font>"
      ]
    },
    {
      "cell_type": "markdown",
      "metadata": {
        "id": "YQ5q8IxHNRk3"
      },
      "source": [
        "<font color='red'> <b>Step - 1</b></font>"
      ]
    },
    {
      "cell_type": "markdown",
      "metadata": {
        "id": "GJCFCaOzl7Mr"
      },
      "source": [
        "*  <font color='blue'><b>Creating samples</b></font><br>\n",
        "    <b> Randomly create 30 samples from the whole boston data points</b>\n",
        "    *  Creating each sample: Consider any random 303(60% of 506) data points from whole data set and then replicate any 203 points from the sampled points\n",
        "    \n",
        "     For better understanding of this procedure lets check this examples, assume we have 10 data points [1,2,3,4,5,6,7,8,9,10], first we take 6 data points randomly , consider we have selected [4, 5, 7, 8, 9, 3] now we will replicate 4 points from [4, 5, 7, 8, 9, 3], consder they are [5, 8, 3,7] so our final sample will be [4, 5, 7, 8, 9, 3, 5, 8, 3,7]\n",
        "* <font color='blue'><b> Create 30 samples </b></font>\n",
        "    *  Note that as a part of the Bagging when you are taking the random samples <b>make sure each of the sample will have different set of columns</b><br>\n",
        "Ex: Assume we have 10 columns[1 ,2 ,3 ,4 ,5 ,6 ,7 ,8 ,9 ,10] for the first sample we will select [3, 4, 5, 9, 1, 2] and for the second sample  [7, 9, 1, 4, 5, 6, 2] and so on...\n",
        "Make sure each sample will have atleast 3 feautres/columns/attributes\n",
        "\n",
        "* <font color='red'><b> Note - While selecting the random 60% datapoints from the whole data, make sure that the selected datapoints are all exclusive, repetition is not allowed. </b></font>"
      ]
    },
    {
      "cell_type": "markdown",
      "metadata": {
        "id": "zUqFEBSvNjCa"
      },
      "source": [
        "<font color='red'><b>Step - 2 </b></font>"
      ]
    },
    {
      "cell_type": "markdown",
      "metadata": {
        "id": "uqi9AhCYNq3Z"
      },
      "source": [
        "<font color='blue'><b>Building High Variance Models on each of the sample and finding train MSE value</b></font>"
      ]
    },
    {
      "cell_type": "markdown",
      "metadata": {
        "id": "-lLBnZHXOFln"
      },
      "source": [
        "*  Build a regression trees on each of 30 samples.\n",
        "*  Computed the predicted values of each data point(506 data points) in your corpus.\n",
        "*  Predicted house price of $i^{th}$ data point $y^{i}_{pred} =  \\frac{1}{30}\\sum_{k=1}^{30}(\\text{predicted value of } x^{i} \\text{ with } k^{th} \\text{ model})$\n",
        "*  Now calculate the $MSE =  \\frac{1}{506}\\sum_{i=1}^{506}(y^{i} - y^{i}_{pred})^{2}$"
      ]
    },
    {
      "cell_type": "markdown",
      "metadata": {
        "id": "Kls23JLnSN23"
      },
      "source": [
        "<font color='red'> <b>Step - 3 </b></font>"
      ]
    },
    {
      "cell_type": "markdown",
      "metadata": {
        "id": "rz2GchkGSWnh"
      },
      "source": [
        "*  <font color='blue'><b>Calculating the OOB score </b></font>"
      ]
    },
    {
      "cell_type": "markdown",
      "metadata": {
        "id": "DGHkVV2kSibm"
      },
      "source": [
        "*  Predicted house price of $i^{th}$ data point $y^{i}_{pred} =  \\frac{1}{k}\\sum_{\\text{k= model which was buit on samples not included } x^{i}}(\\text{predicted value of } x^{i} \\text{ with } k^{th} \\text{ model})$.\n",
        "*  Now calculate the $OOB Score =  \\frac{1}{506}\\sum_{i=1}^{506}(y^{i} - y^{i}_{pred})^{2}$."
      ]
    },
    {
      "cell_type": "markdown",
      "metadata": {
        "id": "RK860ocxTyoz"
      },
      "source": [
        "# <font color='red'><b>Task 2</b></font>"
      ]
    },
    {
      "cell_type": "markdown",
      "metadata": {
        "id": "1dme-N6TUCrY"
      },
      "source": [
        "*  <font color='blue'><b>Computing CI of OOB Score and Train MSE</b></font>\n",
        "  *   Repeat Task 1 for 35 times, and for each iteration store the Train MSE and OOB score </li>\n",
        "<li> After this we will have 35 Train MSE values and 35 OOB scores </li>\n",
        "<li> using these 35 values (assume like a sample) find the confidence intravels of MSE and OOB Score </li>\n",
        "<li> you need to report CI of MSE and CI of OOB Score </li>\n",
        "<li> Note: Refer the Central_Limit_theorem.ipynb to check how to find the confidence intravel</li>\n",
        "</ol>"
      ]
    },
    {
      "cell_type": "markdown",
      "metadata": {
        "id": "O6UcH1x9Uwrj"
      },
      "source": [
        "# <font color='red'><b>Task 3</b></font>"
      ]
    },
    {
      "cell_type": "markdown",
      "metadata": {
        "id": "bOC_AgsLU7OH"
      },
      "source": [
        "*  <font color='blue'><b>Given a single query point predict the price of house.</b></font>"
      ]
    },
    {
      "cell_type": "markdown",
      "metadata": {
        "id": "HYs5jSFdVILe"
      },
      "source": [
        "Consider xq= [0.18,20.0,5.00,0.0,0.421,5.60,72.2,7.95,7.0,30.0,19.1,372.13,18.60] \n",
        "Predict the house price for this point as mentioned in the step 2 of Task 1."
      ]
    },
    {
      "cell_type": "markdown",
      "metadata": {
        "id": "u6rShd89t552"
      },
      "source": [
        "## <font color='red'><b>A few key points</b></font>"
      ]
    },
    {
      "cell_type": "markdown",
      "metadata": {
        "id": "XdgTUXTouHEd"
      },
      "source": [
        "* Remember that the datapoints used for calculating MSE score contain some datapoints that were initially used while training the base learners (the 60% sampling). This makes these datapoints partially seen (i.e. the datapoints used for calculating the MSE score are a mixture of seen and unseen data).\n",
        "Whereas, the datapoints used for calculating OOB score have only the unseen data. This makes these datapoints completely unseen and therefore appropriate for testing the model's performance on unseen data.\n",
        "\n",
        "* Given the information above, if your logic is correct, the calculated MSE score should be less than the OOB score.\n",
        "\n",
        "* The MSE score must lie between 0 and 10.\n",
        "* The OOB score must lie between 10 and 35.\n",
        "\n",
        "* The difference between the left nad right confidence-interval values must not be more than 10. Make sure this is true for both MSE and OOB confidence-interval values."
      ]
    },
    {
      "cell_type": "markdown",
      "metadata": {
        "id": "V2fHTdS_zpgG"
      },
      "source": [
        "# <font color='blue'> <b>Task - 1</b></font>"
      ]
    },
    {
      "cell_type": "markdown",
      "metadata": {
        "id": "e0yGBuryOwHz"
      },
      "source": [
        "<font color='blue'><b>Step - 1</b></font>"
      ]
    },
    {
      "cell_type": "markdown",
      "metadata": {
        "id": "lJXX8vf3z073"
      },
      "source": [
        "*  <font color='blue'> <b>Creating samples</b></font>"
      ]
    },
    {
      "cell_type": "markdown",
      "metadata": {
        "id": "CSVaWG1F4uCZ"
      },
      "source": [
        "<font color='Orange'><b>Algorithm</b></font>\n",
        "\n",
        "![alt text](https://i.imgur.com/OfcFrUP.jpg/)"
      ]
    },
    {
      "cell_type": "code",
      "source": [
        "input_data=x\n",
        "target_data=y"
      ],
      "metadata": {
        "id": "zCjvdqsYtKAQ"
      },
      "execution_count": null,
      "outputs": []
    },
    {
      "cell_type": "markdown",
      "metadata": {
        "id": "f_oWoN97BhDY"
      },
      "source": [
        "*  <font color='blue'><b> Write code for generating samples</b></font>"
      ]
    },
    {
      "cell_type": "code",
      "execution_count": null,
      "metadata": {
        "id": "Ph_6D2SDzz7F"
      },
      "outputs": [],
      "source": [
        "def generating_samples(input_data, target_data):\n",
        "\n",
        "    '''In this function, we will write code for generating 30 samples '''\n",
        "    # you can use random.choice to generate random indices without replacement\n",
        "    # Please have a look at this link https://docs.scipy.org/doc/numpy-1.16.0/reference/generated/numpy.random.choice.html for more details\n",
        "    # Please follow above pseudo code for generating samples \n",
        "    import random\n",
        "    #def generating_samples(input_data, target_data):\n",
        "    selecting_rows=np.random.choice(range(len(input_data)), 303,replace=False)\n",
        "    Replacing_rows=np.random.choice(selecting_rows, 203,replace=False)\n",
        "\n",
        "    selecting_columns=np.random.choice(range(3,13),1)\n",
        "    selecting_columns=np.random.choice(range(3,13),selecting_columns)\n",
        "    sample_data=input_data[selecting_rows[:,None],selecting_columns]\n",
        "    target_of_sample_data=target_data[selecting_rows]\n",
        "\n",
        "    #Replicating data\n",
        "    Replicated_sample_data=input_data[Replacing_rows[:,None],selecting_columns]\n",
        "    target_of_Replicated_sample_data=target_data[Replacing_rows]\n",
        "\n",
        "    #concatinating data\n",
        "    final_sample_data=np.vstack((sample_data,Replicated_sample_data))\n",
        "    final_target_data=np.vstack((target_of_sample_data.reshape(-1,1),target_of_Replicated_sample_data.reshape(-1,1)))\n",
        "\n",
        "    return final_sample_data , final_target_data,selecting_rows,selecting_columns\n",
        "    #note please return as lists"
      ]
    },
    {
      "cell_type": "code",
      "source": [
        "a,b,c,d=generating_samples(input_data, target_data)\n",
        "len(d)"
      ],
      "metadata": {
        "id": "wBQvwmrKuWTX",
        "outputId": "4209cf42-cf12-45ec-97f8-0a838a03ca21",
        "colab": {
          "base_uri": "https://localhost:8080/"
        }
      },
      "execution_count": null,
      "outputs": [
        {
          "output_type": "execute_result",
          "data": {
            "text/plain": [
              "11"
            ]
          },
          "metadata": {},
          "execution_count": 289
        }
      ]
    },
    {
      "cell_type": "markdown",
      "metadata": {
        "id": "MivEQFlm7iOg"
      },
      "source": [
        "<font color='cyan'> <b> Grader function - 1 </b> </fongt>"
      ]
    },
    {
      "cell_type": "code",
      "execution_count": null,
      "metadata": {
        "id": "AVvuhNzm7uld",
        "outputId": "c5e0fc25-0c72-4cd7-95cb-e867ee080f1e",
        "colab": {
          "base_uri": "https://localhost:8080/"
        }
      },
      "outputs": [
        {
          "output_type": "execute_result",
          "data": {
            "text/plain": [
              "True"
            ]
          },
          "metadata": {},
          "execution_count": 290
        }
      ],
      "source": [
        "def grader_samples(a,b,c,d):\n",
        "    length = (len(a)==506  and len(b)==506)\n",
        "    sampled = (len(a)-len(set([str(i) for i in a]))==203)\n",
        "    rows_length = (len(c)==303)\n",
        "    column_length= (len(d)>=3)\n",
        "    assert(length and sampled and rows_length and column_length)\n",
        "    return True\n",
        "a,b,c,d = generating_samples(x, y)\n",
        "grader_samples(a,b,c,d)"
      ]
    },
    {
      "cell_type": "markdown",
      "metadata": {
        "id": "b4LSsmn4Jn2_"
      },
      "source": [
        "*  <font color='blue'> <b>Create 30 samples </b>"
      ]
    },
    {
      "cell_type": "markdown",
      "metadata": {
        "id": "3ec7MN6sL2BZ"
      },
      "source": [
        "![alt text](https://i.imgur.com/p8eZaWL.jpg)"
      ]
    },
    {
      "cell_type": "code",
      "execution_count": null,
      "metadata": {
        "id": "XXlKWjCcBvTk"
      },
      "outputs": [],
      "source": [
        "# Use generating_samples function to create 30 samples \n",
        "# store these created samples in a list\n",
        "list_input_data =[]\n",
        "list_output_data =[]\n",
        "list_selected_row= []\n",
        "list_selected_columns=[]\n",
        "\n",
        "for i in range(30):\n",
        "    a,b,c,d = generating_samples(x, y)\n",
        "    list_input_data.append(a)   \n",
        "    list_output_data.append(b) \n",
        "    list_selected_row.append(c)\n",
        "    list_selected_columns.append(d)"
      ]
    },
    {
      "cell_type": "code",
      "source": [
        "len(list_input_data[0])"
      ],
      "metadata": {
        "id": "1o-VKdccBeBH",
        "outputId": "b4a89d2b-4f48-45e7-e227-d221ac91a656",
        "colab": {
          "base_uri": "https://localhost:8080/"
        }
      },
      "execution_count": null,
      "outputs": [
        {
          "output_type": "execute_result",
          "data": {
            "text/plain": [
              "506"
            ]
          },
          "metadata": {},
          "execution_count": 292
        }
      ]
    },
    {
      "cell_type": "code",
      "source": [
        "list_input_data[29].shape"
      ],
      "metadata": {
        "colab": {
          "base_uri": "https://localhost:8080/"
        },
        "id": "zfTBpGUgS582",
        "outputId": "37ed8ea5-1e5c-4c37-a7bc-59c4329e4912"
      },
      "execution_count": null,
      "outputs": [
        {
          "output_type": "execute_result",
          "data": {
            "text/plain": [
              "(506, 3)"
            ]
          },
          "metadata": {},
          "execution_count": 293
        }
      ]
    },
    {
      "cell_type": "markdown",
      "metadata": {
        "id": "MXUz9VFiMQkh"
      },
      "source": [
        "<font color='cyan'> <b>Grader function - 2 </b></font>"
      ]
    },
    {
      "cell_type": "code",
      "execution_count": null,
      "metadata": {
        "id": "hCvIq8NuMWOC",
        "outputId": "fa388f09-9c4d-428f-aab4-dc6a34d94254",
        "colab": {
          "base_uri": "https://localhost:8080/"
        }
      },
      "outputs": [
        {
          "output_type": "execute_result",
          "data": {
            "text/plain": [
              "True"
            ]
          },
          "metadata": {},
          "execution_count": 294
        }
      ],
      "source": [
        "def grader_30(a):\n",
        "    assert(len(a)==30 and len(a[0])==506)\n",
        "    return True\n",
        "grader_30(list_input_data)"
      ]
    },
    {
      "cell_type": "markdown",
      "metadata": {
        "id": "7Pv-mkZkO6dh"
      },
      "source": [
        "<br>"
      ]
    },
    {
      "cell_type": "markdown",
      "metadata": {
        "id": "whaHCPB0O8qF"
      },
      "source": [
        "<font color='red'><b>Step - 2 </b></font>"
      ]
    },
    {
      "cell_type": "markdown",
      "metadata": {
        "id": "XBy4zXSWPtU8"
      },
      "source": [
        "<font color='orange'><b>Flowchart for building tree</b></font>"
      ]
    },
    {
      "cell_type": "markdown",
      "metadata": {
        "id": "5xvH06HPQBdP"
      },
      "source": [
        "![alt text](https://i.imgur.com/pcXfSmp.png)"
      ]
    },
    {
      "cell_type": "markdown",
      "metadata": {
        "id": "WRwPO_uHQjul"
      },
      "source": [
        "*  <font color='blue'><b> Write code for building regression trees</b></font>"
      ]
    },
    {
      "cell_type": "code",
      "execution_count": null,
      "metadata": {
        "id": "YWQp6tRwMthq"
      },
      "outputs": [],
      "source": [
        "from sklearn.tree import DecisionTreeRegressor\n",
        "list_of_all_models=[]\n",
        "for i in range(30):\n",
        "    model=DecisionTreeRegressor(max_depth=None)\n",
        "    list_of_all_models.append(model.fit(list_input_data[i],list_output_data[i]))\n",
        "#list_of_all_models    "
      ]
    },
    {
      "cell_type": "markdown",
      "metadata": {
        "id": "21j8BKfAQ1U8"
      },
      "source": [
        "<font color='orange'><b>Flowchart for calculating MSE </b></font>"
      ]
    },
    {
      "cell_type": "markdown",
      "metadata": {
        "id": "8Q0mTBD2RBx_"
      },
      "source": [
        "![alt text](https://i.imgur.com/sPEE618.png)"
      ]
    },
    {
      "cell_type": "markdown",
      "metadata": {
        "id": "6e-UamlHRjPy"
      },
      "source": [
        "After getting predicted_y for each data point, we can use sklearns mean_squared_error to calculate the MSE between predicted_y and actual_y."
      ]
    },
    {
      "cell_type": "markdown",
      "metadata": {
        "id": "TnIMT7_oR312"
      },
      "source": [
        "*  <font color='blue'><b> Write code for calculating MSE</b></font>"
      ]
    },
    {
      "cell_type": "code",
      "execution_count": null,
      "metadata": {
        "id": "qWhcvMRWRA9b",
        "colab": {
          "base_uri": "https://localhost:8080/"
        },
        "outputId": "12cd5cfd-a20a-4652-ee0c-f073bef64865"
      },
      "outputs": [
        {
          "output_type": "stream",
          "name": "stdout",
          "text": [
            "(506, 30)\n",
            "(506,)\n",
            "MSE :  0.1419525494312202\n"
          ]
        }
      ],
      "source": [
        "from sklearn.metrics import mean_squared_error\n",
        "from statistics import median\n",
        "\n",
        "array_of_Y = []\n",
        "\n",
        "for i in range(0, 30):\n",
        "  data_point_i = x[:, list_selected_columns[i]]\n",
        "  target_y_i = list_of_all_models[i].predict(data_point_i)\n",
        "  array_of_Y.append(target_y_i)\n",
        "\n",
        "\n",
        "predicted_array_of_target_y = np.array(array_of_Y)\n",
        "predicted_array_of_target_y = predicted_array_of_target_y.transpose()\n",
        "\n",
        "print(predicted_array_of_target_y.shape)\n",
        "\n",
        "# Now to calculate MSE, first calculate the Median of Predicted Y\n",
        "# passing axis=1 will make sure the medians are computed along axis=1\n",
        "median_predicted_y = np.median(predicted_array_of_target_y, axis=1)\n",
        "print(median_predicted_y.shape)\n",
        "\n",
        "print(\"MSE : \", mean_squared_error(y, median_predicted_y ))"
      ]
    },
    {
      "cell_type": "markdown",
      "metadata": {
        "id": "RuclPDMnSz8F"
      },
      "source": [
        "<font color='blue'><b>Step - 3 </b></font>"
      ]
    },
    {
      "cell_type": "markdown",
      "metadata": {
        "id": "ESb9FSIDTM5V"
      },
      "source": [
        "<font color='orange'><b>Flowchart for calculating OOB score</b></font>"
      ]
    },
    {
      "cell_type": "markdown",
      "metadata": {
        "id": "HB-d6NMETbd9"
      },
      "source": [
        "![alt text](https://i.imgur.com/95S5Mtm.png)"
      ]
    },
    {
      "cell_type": "markdown",
      "metadata": {
        "id": "WW3GOcFzTqbt"
      },
      "source": [
        "Now calculate the $OOB Score =  \\frac{1}{506}\\sum_{i=1}^{506}(y^{i} - y^{i}_{pred})^{2}$."
      ]
    },
    {
      "cell_type": "markdown",
      "metadata": {
        "id": "zBqcS03pUYSZ"
      },
      "source": [
        "*  <font color='blue'><b> Write code for calculating OOB score </b></font>"
      ]
    },
    {
      "cell_type": "code",
      "execution_count": null,
      "metadata": {
        "id": "Fog_6DNdS-h_",
        "colab": {
          "base_uri": "https://localhost:8080/"
        },
        "outputId": "5baac226-ec8a-4c8f-b832-6e343c3cee41"
      },
      "outputs": [
        {
          "output_type": "stream",
          "name": "stdout",
          "text": [
            "final_oob_score is  16.28684144972127\n"
          ]
        }
      ],
      "source": [
        "# First noting that our earlier definded variable list_selected_row and list_selected_columns \n",
        "# which has the list of selected rows and columns\n",
        "# e.g. list_selected_row is a 2D array of the form [[], [], []...] each inner-array represnting selected row numbers\n",
        "# for a specific sample. and len(list_selected_row) is 30 reprsenting the 30 samples we have selected for bootstrapping\n",
        "# print(\"list_selected_row[10] \", list_selected_row[10])\n",
        "# print(list_selected_columns)\n",
        "\n",
        "y_predicted_oob_median_list = []\n",
        "\n",
        "for i in range(0, 506):\n",
        "  indices_for_oob_models = []\n",
        "  \n",
        "  # For each of i-th row I shall build a list, of sample size 30\n",
        "  # ONLY condition being that this i-th row should not be part of the list_selected_row[i-th]\n",
        "  # e.g. say for i = 469 and index_oob in below loop is 10 then \n",
        "  # list_selected_row[10] (which is an array of row-numbers) should not contain the 469-th row\n",
        "  for index_oob in range(0, 30):\n",
        "    if i not in list_selected_row[index_oob]:\n",
        "      indices_for_oob_models.append(index_oob)\n",
        "      \n",
        "  y_predicted_oob_list = []\n",
        "  \n",
        "  for oob_model_index in indices_for_oob_models:\n",
        "    model_oob = list_of_all_models[oob_model_index]\n",
        "    \n",
        "    row_oob = x[i]\n",
        "    # print('oob_model_index ', oob_model_index)\n",
        "    \n",
        "    # Now extract ONLY those specific columns/featues that were selected during the bootstrapping\n",
        "    x_oob_data_point = [row_oob[columns] for columns in list_selected_columns[oob_model_index] ]\n",
        "    # print('np.array(x_oob_data_point) ', np.array(x_oob_data_point))\n",
        "    x_oob_data_point = np.array(x_oob_data_point).reshape(1, -1)\n",
        "    \n",
        "    y_predicted_oob_data_point = model_oob.predict(x_oob_data_point)\n",
        "    y_predicted_oob_list.append(y_predicted_oob_data_point)\n",
        "    # \n",
        "  y_predicted_oob_list = np.array(y_predicted_oob_list)\n",
        "  \n",
        "  y_predicted_median = np.median(y_predicted_oob_list)\n",
        "  y_predicted_oob_median_list.append(y_predicted_median)\n",
        "  \n",
        "\n",
        "def calculate_oob_score(num_rows):\n",
        "  oob_score = 0\n",
        "  for i in range(0, num_rows):\n",
        "    oob_score += ((y[i] - y_predicted_oob_median_list[i] ) ** 2)\n",
        "  final_oob_score = oob_score/506\n",
        "  return final_oob_score\n",
        "\n",
        "print(\"final_oob_score is \", calculate_oob_score(506))   \n"
      ]
    },
    {
      "cell_type": "markdown",
      "metadata": {
        "id": "sbuiwX3OUjUI"
      },
      "source": [
        "# <font color='blue'><b>Task 2</b></font>"
      ]
    },
    {
      "cell_type": "code",
      "execution_count": null,
      "metadata": {
        "id": "ceW5-D88Uswi"
      },
      "outputs": [],
      "source": [
        "mse=[]\n",
        "oob_score=[]\n",
        "for i in range(35):\n",
        "    list_input_data =[]\n",
        "    list_output_data =[]\n",
        "    list_selected_row= []\n",
        "    list_selected_columns=[]\n",
        "    for i in range(30):\n",
        "        a,b,c,d = generating_samples(x, y)\n",
        "        list_input_data.append(a)   \n",
        "        list_output_data.append(b) \n",
        "        list_selected_row.append(c)\n",
        "        list_selected_columns.append(d)\n",
        "    list_of_all_models=[]\n",
        "    for i in range(30):\n",
        "        model=DecisionTreeRegressor(max_depth=None)\n",
        "        list_of_all_models.append(model.fit(list_input_data[i],list_output_data[i]))\n",
        "    \n",
        "    array_of_Y = []\n",
        "\n",
        "    for i in range(0, 30):\n",
        "        data_point_i = x[:, list_selected_columns[i]]\n",
        "        target_y_i = list_of_all_models[i].predict(data_point_i)\n",
        "        array_of_Y.append(target_y_i)\n",
        "\n",
        "\n",
        "    predicted_array_of_target_y = np.array(array_of_Y)\n",
        "    predicted_array_of_target_y = predicted_array_of_target_y.transpose()\n",
        "\n",
        "    #print(predicted_array_of_target_y.shape)\n",
        "\n",
        "    # Now to calculate MSE, first calculate the Median of Predicted Y\n",
        "    # passing axis=1 will make sure the medians are computed along axis=1\n",
        "    median_predicted_y = np.median(predicted_array_of_target_y, axis=1)\n",
        "    #print(median_predicted_y.shape)\n",
        "\n",
        "   #print(\"MSE : \", mean_squared_error(y, median_predicted_y ))    \n",
        "    mse.append(mean_squared_error(y, median_predicted_y ))\n",
        "\n",
        "    y_predicted_oob_median_list = []\n",
        "\n",
        "    for i in range(0, 506):\n",
        "        indices_for_oob_models = []\n",
        "\n",
        "        for index_oob in range(0, 30):\n",
        "            if i not in list_selected_row[index_oob]:\n",
        "                indices_for_oob_models.append(index_oob)\n",
        "     \n",
        "        y_predicted_oob_list = []\n",
        "  \n",
        "        for oob_model_index in indices_for_oob_models:\n",
        "            model_oob = list_of_all_models[oob_model_index]\n",
        "            \n",
        "            row_oob = x[i]\n",
        "   \n",
        "            x_oob_data_point = [row_oob[columns] for columns in list_selected_columns[oob_model_index] ]\n",
        "    # print('np.array(x_oob_data_point) ', np.array(x_oob_data_point))\n",
        "            x_oob_data_point = np.array(x_oob_data_point).reshape(1, -1)\n",
        "    \n",
        "            y_predicted_oob_data_point = model_oob.predict(x_oob_data_point)\n",
        "            y_predicted_oob_list.append(y_predicted_oob_data_point)\n",
        "            \n",
        "         # \n",
        "        y_predicted_oob_list = np.array(y_predicted_oob_list)\n",
        "  \n",
        "        y_predicted_median = np.median(y_predicted_oob_list)\n",
        "        y_predicted_oob_median_list.append(y_predicted_median)\n",
        "\n",
        "    def calculate_oob_score(num_rows):\n",
        "        oob_score = 0\n",
        "        for i in range(0, num_rows):\n",
        "              oob_score += ((y[i] - y_predicted_oob_median_list[i] ) ** 2)\n",
        "              final_oob_score = oob_score/506\n",
        "        return final_oob_score    \n",
        "     \n",
        "    oob_score.append(calculate_oob_score(506))          \n"
      ]
    },
    {
      "cell_type": "code",
      "source": [
        "import scipy"
      ],
      "metadata": {
        "id": "R9ppZkmD06y6"
      },
      "execution_count": null,
      "outputs": []
    },
    {
      "cell_type": "code",
      "source": [
        "#https://www.appliedaicourse.com/lecture/11/applied-machine-learning-online-course/2862/confidence-interval-using-bootstrapping/2/module-2-data-science-exploratory-data-analysis-and-data-visualization\n",
        "# confidence intervals\n",
        "alpha = 0.95\n",
        "p = ((1.0-alpha)/2.0) * 100\n",
        "lower =  np.percentile(mse, p)\n",
        "\n",
        "p = (alpha+((1.0-alpha)/2.0)) * 100\n",
        "upper =  np.percentile(mse, p)\n",
        "print('%.1f confidence interval of mse is %.1f and %.1f' % (alpha*100, lower, upper))"
      ],
      "metadata": {
        "colab": {
          "base_uri": "https://localhost:8080/"
        },
        "id": "YfDFYOFeN92a",
        "outputId": "14f4d6dc-29ea-4070-f5f2-2dde9cc7c2a4"
      },
      "execution_count": null,
      "outputs": [
        {
          "output_type": "stream",
          "name": "stdout",
          "text": [
            "95.0 confidence interval of mse is 0.0 and 0.3\n"
          ]
        }
      ]
    },
    {
      "cell_type": "code",
      "source": [
        "# confidence intervals\n",
        "alpha = 0.95\n",
        "p = ((1.0-alpha)/2.0) * 100\n",
        "lower =  np.percentile(oob_score, p)\n",
        "\n",
        "p = (alpha+((1.0-alpha)/2.0)) * 100\n",
        "upper =  np.percentile(oob_score, p)\n",
        "print('%.1f confidence interval of oob score is %.1f and %.1f' % (alpha*100, lower, upper))"
      ],
      "metadata": {
        "colab": {
          "base_uri": "https://localhost:8080/"
        },
        "id": "iD9tWtC9Pkdi",
        "outputId": "ddabeb45-6e10-4a78-c3d2-ce9a6ea423ba"
      },
      "execution_count": null,
      "outputs": [
        {
          "output_type": "stream",
          "name": "stdout",
          "text": [
            "95.0 confidence interval of oob score is 12.5 and 18.4\n"
          ]
        }
      ]
    },
    {
      "cell_type": "markdown",
      "metadata": {
        "id": "jKTnJdiBVS_e"
      },
      "source": [
        "# <font color='blue'><b>Task 3</b></font>"
      ]
    },
    {
      "cell_type": "markdown",
      "metadata": {
        "id": "eXxrvZqHV1Fr"
      },
      "source": [
        "<font color='orange'><b>Flowchart for Task 3</b></font>"
      ]
    },
    {
      "cell_type": "markdown",
      "metadata": {
        "id": "NyjwEJ62V6a6"
      },
      "source": [
        "<b>Hint: </b> We created 30 models by using 30 samples in TASK-1. Here, we need send query point \"xq\"  to 30 models and perform the regression on the output generated by 30 models."
      ]
    },
    {
      "cell_type": "markdown",
      "metadata": {
        "id": "0emSwLL7VurD"
      },
      "source": [
        "![alt text](https://i.imgur.com/Y5cNhQk.png)"
      ]
    },
    {
      "cell_type": "markdown",
      "metadata": {
        "id": "29hjwKlWWDfo"
      },
      "source": [
        "*  <font color='blue'><b> Write code for TASK 3 </b></font>"
      ]
    },
    {
      "cell_type": "code",
      "source": [
        "xq= [0.18,20.0,5.00,0.0,0.421,5.60,72.2,7.95,7.0,30.0,19.1,372.13,18.60] "
      ],
      "metadata": {
        "id": "XWylKtfsQguK"
      },
      "execution_count": null,
      "outputs": []
    },
    {
      "cell_type": "code",
      "execution_count": null,
      "metadata": {
        "id": "i_pUlSD-VYD1",
        "colab": {
          "base_uri": "https://localhost:8080/"
        },
        "outputId": "8ff57431-8d90-4bd4-d3b6-bbb4b14ea942"
      },
      "outputs": [
        {
          "output_type": "stream",
          "name": "stdout",
          "text": [
            "[19.1]\n"
          ]
        }
      ],
      "source": [
        "from sklearn.metrics import mean_squared_error\n",
        "from statistics import median\n",
        "\n",
        "array_of_Y = []\n",
        "\n",
        "for i in range(0, 30):\n",
        "  data_point_i = np.array([xq[column] for column in list_selected_columns[i]])\n",
        "  target_y_i = list_of_all_models[i].predict(data_point_i.reshape(1,-1))\n",
        "  array_of_Y.append(target_y_i)\n",
        "\n",
        "\n",
        "predicted_array_of_target_y = np.array(array_of_Y)\n",
        "predicted_array_of_target_y = predicted_array_of_target_y.transpose()\n",
        "\n",
        "#print(predicted_array_of_target_y.shape)\n",
        "\n",
        "# Now to calculate MSE, first calculate the Median of Predicted Y\n",
        "# passing axis=1 will make sure the medians are computed along axis=1\n",
        "median_predicted_y = np.median(predicted_array_of_target_y, axis=1)\n",
        "print(median_predicted_y)\n",
        "\n"
      ]
    },
    {
      "cell_type": "markdown",
      "metadata": {
        "id": "IOdUi-0xWOJ9"
      },
      "source": [
        "<font color='red'><b>Write observations for task 1, task 2, task 3 indetail</b></font>"
      ]
    },
    {
      "cell_type": "markdown",
      "source": [
        "bootstrap samples are generated of having different rows,differnt coloumns\n",
        "by applying different models on a query point getting better results compared to use only single model\n",
        "\n",
        " splitting small datsets into train,cv is not a good idea because of loss of useful information during training \n",
        " process.in this case oob_score is useful to test the model performance on unseen data by observing oob score\n",
        "\n",
        "confidence interval tells us about the 95% times population mean falls with in range(lower_c.i,upper_c.i) "
      ],
      "metadata": {
        "id": "ceQDNxmPllXT"
      }
    }
  ],
  "metadata": {
    "colab": {
      "collapsed_sections": [],
      "name": "Bootstrap_assignment_modified22.ipynb",
      "provenance": []
    },
    "kernelspec": {
      "display_name": "Python 3",
      "language": "python",
      "name": "python3"
    },
    "language_info": {
      "codemirror_mode": {
        "name": "ipython",
        "version": 3
      },
      "file_extension": ".py",
      "mimetype": "text/x-python",
      "name": "python",
      "nbconvert_exporter": "python",
      "pygments_lexer": "ipython3",
      "version": "3.6.3"
    }
  },
  "nbformat": 4,
  "nbformat_minor": 0
}